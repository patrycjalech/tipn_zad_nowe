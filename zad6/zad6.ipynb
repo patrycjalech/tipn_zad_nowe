{
 "cells": [
  {
   "cell_type": "code",
   "execution_count": 1,
   "metadata": {},
   "outputs": [],
   "source": [
    "a = \"Czy lubisz spędzać czas ze znajomymi?\"\n",
    "b = \"Czy masz dobry kontakt ze swoją rodziną?\"\n",
    "c = \"Czy masz dużo znajomych i przyjaciół?\"\n",
    "d = \"Czy zamiast siedzieć samemu w domu wolisz wyjść do ludzi?\"\n",
    "e = \"Czy starasz się być miły i lojalny w stosunku do innych?\"\n",
    "punkty = []"
   ]
  },
  {
   "cell_type": "code",
   "execution_count": 6,
   "metadata": {},
   "outputs": [],
   "source": [
    "def test(os):\n",
    "\n",
    "    lista_pytan = [a, b, c, d, e]\n",
    "    \n",
    "def zadaj_pytanie(a):\n",
    "        \n",
    "    print(a)\n",
    "    ax = input(\"1 oznacza zupełnie się nie zgadzam, a 5 oznacza całkowicie się zgadzam:\")\n",
    "    ax = int(ax)\n",
    "    if ax>5 or ax<1:\n",
    "        print(\"Wpisałeś złą liczbę!\")\n",
    "    else:\n",
    "        return ax"
   ]
  },
  {
   "cell_type": "code",
   "execution_count": 5,
   "metadata": {},
   "outputs": [
    {
     "name": "stdout",
     "output_type": "stream",
     "text": [
      "Czy lubisz spędzać czas ze znajomymi?\n"
     ]
    },
    {
     "name": "stdin",
     "output_type": "stream",
     "text": [
      "1 oznacza zupełnie się nie zgadzam, a 5 oznacza całkowicie się zgadzam: 5\n"
     ]
    },
    {
     "name": "stdout",
     "output_type": "stream",
     "text": [
      "Czy masz dobry kontakt ze swoją rodziną?\n"
     ]
    },
    {
     "name": "stdin",
     "output_type": "stream",
     "text": [
      "1 oznacza zupełnie się nie zgadzam, a 5 oznacza całkowicie się zgadzam: 5\n"
     ]
    },
    {
     "name": "stdout",
     "output_type": "stream",
     "text": [
      "Czy masz dużo znajomych i przyjaciół?\n"
     ]
    },
    {
     "name": "stdin",
     "output_type": "stream",
     "text": [
      "1 oznacza zupełnie się nie zgadzam, a 5 oznacza całkowicie się zgadzam: 5\n"
     ]
    },
    {
     "name": "stdout",
     "output_type": "stream",
     "text": [
      "Czy zamiast siedzieć samemu w domu wolisz wyjść do ludzi?\n"
     ]
    },
    {
     "name": "stdin",
     "output_type": "stream",
     "text": [
      "1 oznacza zupełnie się nie zgadzam, a 5 oznacza całkowicie się zgadzam: 5\n"
     ]
    },
    {
     "name": "stdout",
     "output_type": "stream",
     "text": [
      "Czy starasz się być miły i lojalny w stosunku do innych?\n"
     ]
    },
    {
     "name": "stdin",
     "output_type": "stream",
     "text": [
      "1 oznacza zupełnie się nie zgadzam, a 5 oznacza całkowicie się zgadzam: 5\n"
     ]
    },
    {
     "name": "stdout",
     "output_type": "stream",
     "text": [
      "Twój wynik to 25 . Kochasz innych ludzi a oni kochają ciebie!\n"
     ]
    }
   ],
   "source": [
    "pkt = zadaj_pytanie(a)\n",
    "punkty.append(pkt)\n",
    "pkt = zadaj_pytanie(b)\n",
    "punkty.append(pkt)\n",
    "pkt = zadaj_pytanie(c)\n",
    "punkty.append(pkt)\n",
    "pkt = zadaj_pytanie(d)\n",
    "punkty.append(pkt)\n",
    "pkt = zadaj_pytanie(e)\n",
    "punkty.append(pkt)\n",
    "wynik = sum(punkty)\n",
    "wynik = int(wynik)\n",
    "if wynik > 5 and wynik < 10:\n",
    "    print(\"Twój wynik to\", wynik, \".\", \"Jesteś aspołeczny.\")\n",
    "elif wynik == 5:\n",
    "    print(\"Twój wynik to\", wynik, \".\", \"Czas przemyśleć czy na pewno chcesz tak dalej żyć sam dla siebie.\")\n",
    "elif wynik >= 10 and wynik < 15:\n",
    "    print(\"Twój wynik to\", wynik, \".\", \"Spróbuj jeszcze bardziej otworzyć się na ludzi!.\")\n",
    "elif wynik >= 15 and wynik < 20:\n",
    "    print(\"Twój wynik to\", wynik, \".\", \"Lubisz przebywać z innymi, ale pamiętaj, że warto dbać o znajomości i przyjaźnie.\")\n",
    "elif wynik >=20 and wynik < 25:\n",
    "    print(\"Twój wynik to\", wynik, \".\", \"Nie lubisz być osamotniony, więc szukasz ciągłego kontaktu z innymi i dobrze się czujesz wśród ludzi.\")\n",
    "elif wynik == 25:\n",
    "    print(\"Twój wynik to\", wynik, \".\", \"Kochasz innych ludzi a oni kochają ciebie!\")\n",
    "    \n",
    "if wynik > 0:\n",
    "    punkty.pop(0)\n",
    "    punkty.pop(0)\n",
    "    punkty.pop(0)\n",
    "    punkty.pop(0)\n",
    "    punkty.pop(0)"
   ]
  },
  {
   "cell_type": "code",
   "execution_count": null,
   "metadata": {},
   "outputs": [],
   "source": []
  }
 ],
 "metadata": {
  "kernelspec": {
   "display_name": "Python 3",
   "language": "python",
   "name": "python3"
  },
  "language_info": {
   "codemirror_mode": {
    "name": "ipython",
    "version": 3
   },
   "file_extension": ".py",
   "mimetype": "text/x-python",
   "name": "python",
   "nbconvert_exporter": "python",
   "pygments_lexer": "ipython3",
   "version": "3.7.0"
  }
 },
 "nbformat": 4,
 "nbformat_minor": 2
}
